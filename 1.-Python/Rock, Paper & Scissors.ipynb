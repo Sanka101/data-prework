{
 "cells": [
  {
   "cell_type": "code",
   "execution_count": 1,
   "metadata": {},
   "outputs": [],
   "source": [
    "import random"
   ]
  },
  {
   "cell_type": "code",
   "execution_count": 2,
   "metadata": {},
   "outputs": [],
   "source": [
    "# create list includes 3 options\n",
    "gestures= ['rock','paper','scissors']"
   ]
  },
  {
   "cell_type": "code",
   "execution_count": 3,
   "metadata": {},
   "outputs": [],
   "source": [
    "n_rounds= 7"
   ]
  },
  {
   "cell_type": "code",
   "execution_count": 4,
   "metadata": {},
   "outputs": [
    {
     "name": "stdout",
     "output_type": "stream",
     "text": [
      "4.0\n"
     ]
    }
   ],
   "source": [
    "rounds_to_win= (n_rounds/2)+0.5\n",
    "print(rounds_to_win)"
   ]
  },
  {
   "cell_type": "code",
   "execution_count": 5,
   "metadata": {},
   "outputs": [],
   "source": [
    "cpu_score=0\n",
    "player_score=0\n"
   ]
  },
  {
   "cell_type": "code",
   "execution_count": 14,
   "metadata": {},
   "outputs": [
    {
     "data": {
      "text/plain": [
       "['rock']"
      ]
     },
     "execution_count": 14,
     "metadata": {},
     "output_type": "execute_result"
    }
   ],
   "source": [
    "# random.choice\n",
    "def cp_option(str):\n",
    "    return(random.choices(str))\n",
    "\n",
    "cp_option(gestures)"
   ]
  },
  {
   "cell_type": "code",
   "execution_count": 15,
   "metadata": {},
   "outputs": [],
   "source": [
    "# Use input\n",
    "\n",
    "def player_option(str):\n",
    "    player_input= input(\"Enter your choice: \")\n",
    "    if not (player_input == \"rock\") | (player_input == \"paper\") | (player_input == \"scissors\"):\n",
    "        player_input= input(\"Enter your choice: \")\n",
    "    if player_input == 'rock':\n",
    "        return('rock')\n",
    "    elif player_input == 'paper':\n",
    "        return('paper')\n",
    "    elif player_input == 'scissors':\n",
    "        return('scissors')\n",
    "    \n",
    "    \n",
    "\n",
    "#player_option(str)     "
   ]
  },
  {
   "cell_type": "code",
   "execution_count": 18,
   "metadata": {},
   "outputs": [
    {
     "name": "stdout",
     "output_type": "stream",
     "text": [
      "Enter your choice: rock\n"
     ]
    },
    {
     "data": {
      "text/plain": [
       "2"
      ]
     },
     "execution_count": 18,
     "metadata": {},
     "output_type": "execute_result"
    }
   ],
   "source": [
    "#def winner, compare two lists\n",
    "\n",
    "def check_winner(x1,x2):\n",
    "    if x1 == x2:\n",
    "        return 0\n",
    "    elif x1 == 'rock':\n",
    "        if x2 == 'paper':\n",
    "            return 1\n",
    "        else:\n",
    "            return 2\n",
    "    elif x1 == 'paper':\n",
    "        if x2 == 'rock':\n",
    "            return 1\n",
    "        else:\n",
    "            return 2\n",
    "    elif x1 == 'scissors':\n",
    "        if x2 == 'paper':\n",
    "            return 2\n",
    "        else:\n",
    "            return 1\n",
    "\n",
    "check_winner(player_option(str),cp_option(gestures))\n"
   ]
  },
  {
   "cell_type": "code",
   "execution_count": 49,
   "metadata": {},
   "outputs": [],
   "source": [
    "def update():\n",
    "    cpu_score +=1\n",
    "    player_score += 1\n",
    "    "
   ]
  },
  {
   "cell_type": "code",
   "execution_count": 42,
   "metadata": {},
   "outputs": [],
   "source": [
    "# Loop \n"
   ]
  },
  {
   "cell_type": "code",
   "execution_count": 43,
   "metadata": {},
   "outputs": [],
   "source": [
    "#print(\"Winner\")"
   ]
  }
 ],
 "metadata": {
  "kernelspec": {
   "display_name": "Python 3",
   "language": "python",
   "name": "python3"
  },
  "language_info": {
   "codemirror_mode": {
    "name": "ipython",
    "version": 3
   },
   "file_extension": ".py",
   "mimetype": "text/x-python",
   "name": "python",
   "nbconvert_exporter": "python",
   "pygments_lexer": "ipython3",
   "version": "3.7.4"
  }
 },
 "nbformat": 4,
 "nbformat_minor": 2
}
