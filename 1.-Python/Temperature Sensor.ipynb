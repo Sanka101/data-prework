{
 "cells": [
  {
   "cell_type": "code",
   "execution_count": 3,
   "metadata": {},
   "outputs": [],
   "source": [
    "\n",
    "temperatures_C = [33, 66, 65, 0, 59, 60, 62, 64, 70, 76, 80, 81, 80, 83, 90, 79, 61, 53, 50, 49, 53, 48, 45, 39]"
   ]
  },
  {
   "cell_type": "code",
   "execution_count": 7,
   "metadata": {},
   "outputs": [],
   "source": [
    "# First element at 12am, measurement per hour \n",
    "# > 4 above or equal 70, > 0 above 80, avg T> 65\n",
    "\n",
    "min_T= min(temperatures_C)"
   ]
  },
  {
   "cell_type": "code",
   "execution_count": 9,
   "metadata": {},
   "outputs": [],
   "source": [
    "max_T= max(temperatures_C)"
   ]
  },
  {
   "cell_type": "code",
   "execution_count": 11,
   "metadata": {},
   "outputs": [
    {
     "name": "stdout",
     "output_type": "stream",
     "text": [
      "[70, 76, 80, 81, 80, 83, 90, 79]\n"
     ]
    }
   ],
   "source": [
    "# Above 70\n",
    "med_T=[]\n",
    "\n",
    "for i in temperatures_C:\n",
    "    if i >= 70:\n",
    "        med_T.append(i)\n",
    "        \n",
    "print(med_T)"
   ]
  },
  {
   "cell_type": "code",
   "execution_count": 13,
   "metadata": {},
   "outputs": [
    {
     "name": "stdout",
     "output_type": "stream",
     "text": [
      "60.25\n"
     ]
    }
   ],
   "source": [
    "avg_T= sum(temperatures_C)/len(temperatures_C)\n",
    "print(avg_T)"
   ]
  },
  {
   "cell_type": "code",
   "execution_count": 15,
   "metadata": {},
   "outputs": [
    {
     "name": "stdout",
     "output_type": "stream",
     "text": [
      "0\n"
     ]
    }
   ],
   "source": [
    "print(temperatures_C[3])"
   ]
  },
  {
   "cell_type": "code",
   "execution_count": 19,
   "metadata": {},
   "outputs": [
    {
     "name": "stdout",
     "output_type": "stream",
     "text": [
      "[33, 66, 65, 60.25, 59, 60, 62, 64, 70, 76, 80, 81, 80, 83, 90, 79, 61, 53, 50, 49, 53, 48, 45, 39]\n"
     ]
    }
   ],
   "source": [
    "# Fill in with average value\n",
    "\n",
    "temperatures_C_new=[]\n",
    "for j in temperatures_C:\n",
    "    if j > 0:\n",
    "        temperatures_C_new.append(j)\n",
    "    elif j == 0:\n",
    "        temperatures_C_new.append(avg_T)\n",
    "        \n",
    "        \n",
    "print(temperatures_C_new)"
   ]
  },
  {
   "cell_type": "code",
   "execution_count": 21,
   "metadata": {},
   "outputs": [
    {
     "name": "stdout",
     "output_type": "stream",
     "text": [
      "[91.4, 150.8, 149.0, 140.45, 138.2, 140.0, 143.60000000000002, 147.2, 158.0, 168.8, 176.0, 177.8, 176.0, 181.4, 194.0, 174.20000000000002, 141.8, 127.4, 122.0, 120.2, 127.4, 118.4, 113.0, 102.2]\n"
     ]
    },
    {
     "data": {
      "text/plain": [
       "24"
      ]
     },
     "execution_count": 21,
     "metadata": {},
     "output_type": "execute_result"
    }
   ],
   "source": [
    "temperatures_F_new=[]\n",
    "\n",
    "# F= 1.8*C +32\n",
    "\n",
    "for k in temperatures_C_new:\n",
    "    temperatures_F_new.append((k*1.8)+32)\n",
    "    \n",
    "\n",
    "print(temperatures_F_new)\n",
    "len(temperatures_F_new)"
   ]
  },
  {
   "cell_type": "code",
   "execution_count": 37,
   "metadata": {},
   "outputs": [
    {
     "name": "stdout",
     "output_type": "stream",
     "text": [
      "Based on the measurements we recommend to change  the cooling system\n"
     ]
    }
   ],
   "source": [
    "# Decision\n",
    "any_T=0\n",
    "\n",
    "for l in temperatures_C_new:\n",
    "    if l > 80:\n",
    "        any_T += 1\n",
    "\n",
    "    \n",
    "change=0\n",
    "if (any_T > 0 ) | (len(med_T) > 4) | (avg_T > 65):\n",
    "    change += 1\n",
    "\n",
    "    \n",
    "x=str()\n",
    "\n",
    "if change > 0:\n",
    "    x = 'change'\n",
    "    \n",
    "\n",
    "\n",
    "print(\"Based on the measurements we recommend to\",x,\" the cooling system\")"
   ]
  },
  {
   "cell_type": "code",
   "execution_count": null,
   "metadata": {},
   "outputs": [],
   "source": []
  },
  {
   "cell_type": "code",
   "execution_count": null,
   "metadata": {},
   "outputs": [],
   "source": []
  }
 ],
 "metadata": {
  "kernelspec": {
   "display_name": "Python 3",
   "language": "python",
   "name": "python3"
  },
  "language_info": {
   "codemirror_mode": {
    "name": "ipython",
    "version": 3
   },
   "file_extension": ".py",
   "mimetype": "text/x-python",
   "name": "python",
   "nbconvert_exporter": "python",
   "pygments_lexer": "ipython3",
   "version": "3.7.4"
  }
 },
 "nbformat": 4,
 "nbformat_minor": 2
}
