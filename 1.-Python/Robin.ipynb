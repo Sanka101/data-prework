{
 "cells": [
  {
   "cell_type": "code",
   "execution_count": 1,
   "metadata": {},
   "outputs": [],
   "source": [
    "points = [(4, 5), (-0, 2), (4, 7), (1, -3), (3, -2), (4, 5), (3, 2), (5, 7), (-5, 7), (2, 2), (-4, 5), (0, -2),\n",
    "          (-4, 7), (-1, 3), (-3, 2), (-4, -5), (-3, 2), (5, 7), (5, 7), (2, 2), (9, 9), (-8, -9)]"
   ]
  },
  {
   "cell_type": "code",
   "execution_count": 2,
   "metadata": {},
   "outputs": [
    {
     "name": "stdout",
     "output_type": "stream",
     "text": [
      "[(4, 5), (-3, 2), (5, 7), (5, 7), (2, 2)]\n"
     ]
    }
   ],
   "source": [
    "# Find duplicates\n",
    "\n",
    "unique=[]\n",
    "duplicates=[]\n",
    "\n",
    "for i in points:\n",
    "    if i not in unique:\n",
    "        unique.append(i)\n",
    "    else:\n",
    "        duplicates.append(i)\n",
    "        \n",
    "        \n",
    "print(duplicates)  "
   ]
  },
  {
   "cell_type": "code",
   "execution_count": 3,
   "metadata": {},
   "outputs": [
    {
     "name": "stdout",
     "output_type": "stream",
     "text": [
      "Total arrows is 22\n",
      "In Q1 10 arrows have fallen\n",
      "In Q2 2 arrows have fallen\n",
      "In Q3 6 arrows have fallen\n",
      "In Q4 2 arrows have fallen\n",
      "In total there are 2 arrows that dont belong in any quadrant\n"
     ]
    }
   ],
   "source": [
    "# Calculate how many arrows have fallen in each quadrant\n",
    "\n",
    "Q1=0\n",
    "Q2=0\n",
    "Q3=0\n",
    "Q4=0\n",
    "No_Q=0\n",
    "\n",
    "# Split tuple x,y coordinates and in make list\n",
    "\n",
    "\n",
    "x,y= map(list, zip(*points))\n",
    "zip_object= zip(x,y)\n",
    "\n",
    "\n",
    "\n",
    "for x,y in zip_object:\n",
    "    if (x > 0) & (y > 0):\n",
    "        Q1 += 1\n",
    "    elif (x > 0) & (y < 0):\n",
    "        Q2 += 1\n",
    "    elif (x < 0) & (y > 0):\n",
    "        Q3 += 1\n",
    "    elif (x < 0) & (y < 0):\n",
    "        Q4 += 1\n",
    "    else:\n",
    "        No_Q += 1\n",
    "        \n",
    "              \n",
    "print(\"Total arrows is\",len(points))        \n",
    "print(\"In Q1\",Q1,\"arrows have fallen\")        \n",
    "print(\"In Q2\",Q2,\"arrows have fallen\")        \n",
    "print(\"In Q3\",Q3,\"arrows have fallen\")        \n",
    "print(\"In Q4\",Q4,\"arrows have fallen\")        \n",
    "print(\"In total there are\",No_Q,\"arrows that dont belong in any quadrant\")\n",
    "\n",
    "\n",
    "\n"
   ]
  },
  {
   "cell_type": "code",
   "execution_count": 4,
   "metadata": {},
   "outputs": [
    {
     "name": "stdout",
     "output_type": "stream",
     "text": [
      "6.4031242374328485\n",
      "[6.4031242374328485, 2.0, 8.06225774829855, 3.1622776601683795, 3.605551275463989, 6.4031242374328485, 3.605551275463989, 8.602325267042627, 8.602325267042627, 2.8284271247461903, 6.4031242374328485, 2.0, 8.06225774829855, 3.1622776601683795, 3.605551275463989, 6.4031242374328485, 3.605551275463989, 8.602325267042627, 8.602325267042627, 2.8284271247461903, 12.727922061357855, 12.041594578792296]\n",
      "Point 2  is closest to the center with a distance of 2.0\n"
     ]
    }
   ],
   "source": [
    "# Closest to the center\n",
    "\n",
    "from scipy.spatial import distance\n",
    "\n",
    "center= (0,0)\n",
    "p1=(4,5)\n",
    "\n",
    "test= distance.euclidean(center,p1)\n",
    "print(test)\n",
    "\n",
    "# Euclidean distance per point in one list\n",
    "total=[]\n",
    "for i in points:\n",
    "    total.append(distance.euclidean(center,i))\n",
    "        \n",
    "print(total)       \n",
    "\n",
    "closest_to_center= (min(total))\n",
    "ind= total.index(min(total))\n",
    "\n",
    "print(\"Point\", ind + 1,\" is closest to the center with a distance of\",closest_to_center)\n",
    "\n"
   ]
  },
  {
   "cell_type": "code",
   "execution_count": 8,
   "metadata": {},
   "outputs": [
    {
     "name": "stdout",
     "output_type": "stream",
     "text": [
      "2\n"
     ]
    }
   ],
   "source": [
    "# Archery target has a radius of 9\n",
    "# Everything < 9 hit, >9 wont hit\n",
    "\n",
    "miss=0\n",
    "\n",
    "#print(total)\n",
    "range(len(total))\n",
    "\n",
    "for n in range(len(total)):\n",
    "    if total[n] > 9:\n",
    "        miss += 1\n",
    "      \n",
    "\n",
    "    \n",
    "print(miss)\n",
    "     \n",
    "        "
   ]
  },
  {
   "cell_type": "code",
   "execution_count": null,
   "metadata": {},
   "outputs": [],
   "source": []
  }
 ],
 "metadata": {
  "kernelspec": {
   "display_name": "Python 3",
   "language": "python",
   "name": "python3"
  },
  "language_info": {
   "codemirror_mode": {
    "name": "ipython",
    "version": 3
   },
   "file_extension": ".py",
   "mimetype": "text/x-python",
   "name": "python",
   "nbconvert_exporter": "python",
   "pygments_lexer": "ipython3",
   "version": "3.7.4"
  }
 },
 "nbformat": 4,
 "nbformat_minor": 2
}
