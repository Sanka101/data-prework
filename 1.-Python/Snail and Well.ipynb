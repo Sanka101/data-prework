{
 "cells": [
  {
   "cell_type": "markdown",
   "metadata": {},
   "source": [
    "# 1 Assign the challenge data to variables"
   ]
  },
  {
   "cell_type": "code",
   "execution_count": 17,
   "metadata": {},
   "outputs": [],
   "source": [
    "# All in cm\n",
    "well_height= 125 \n",
    "daily_distance=30\n",
    "nightly_distance=20\n",
    "snail_position=0\n"
   ]
  },
  {
   "cell_type": "markdown",
   "metadata": {},
   "source": [
    "# 2. Create a variable"
   ]
  },
  {
   "cell_type": "code",
   "execution_count": 18,
   "metadata": {},
   "outputs": [],
   "source": [
    "days_passed=0\n"
   ]
  },
  {
   "cell_type": "markdown",
   "metadata": {},
   "source": [
    "# 3. Find the solution"
   ]
  },
  {
   "cell_type": "code",
   "execution_count": 19,
   "metadata": {},
   "outputs": [
    {
     "name": "stdout",
     "output_type": "stream",
     "text": [
      "Snail is down\n",
      "Snail rises\n",
      "Snail sleeps\n",
      "Snail rises\n",
      "Snail sleeps\n",
      "Snail rises\n",
      "Snail sleeps\n",
      "Snail rises\n",
      "Snail sleeps\n",
      "Snail rises\n",
      "Snail sleeps\n",
      "Snail rises\n",
      "Snail sleeps\n",
      "Snail rises\n",
      "Snail sleeps\n",
      "Snail rises\n",
      "Snail sleeps\n",
      "Snail rises\n",
      "Snail sleeps\n",
      "Snail rises\n",
      "Snail sleeps\n",
      "Snail rises\n",
      "Snail escapes\n"
     ]
    }
   ],
   "source": [
    "print(\"Snail is down\")\n",
    "\n",
    "while snail_position < well_height:\n",
    "        print(\"Snail rises\")\n",
    "        snail_position += daily_distance\n",
    "        if snail_position < well_height:\n",
    "            print(\"Snail sleeps\")\n",
    "            days_passed += 1\n",
    "            snail_position -= (nightly_distance)\n",
    "            \n",
    "print(\"Snail escapes\")\n",
    "        \n",
    "    \n",
    "    "
   ]
  },
  {
   "cell_type": "markdown",
   "metadata": {},
   "source": [
    "# 4. Print the solution"
   ]
  },
  {
   "cell_type": "code",
   "execution_count": 20,
   "metadata": {},
   "outputs": [
    {
     "name": "stdout",
     "output_type": "stream",
     "text": [
      "10\n"
     ]
    }
   ],
   "source": [
    "print(days_passed)\n"
   ]
  },
  {
   "cell_type": "code",
   "execution_count": 21,
   "metadata": {},
   "outputs": [],
   "source": [
    "# 11th day he escapes"
   ]
  },
  {
   "cell_type": "markdown",
   "metadata": {},
   "source": [
    "# Bonus"
   ]
  },
  {
   "cell_type": "code",
   "execution_count": null,
   "metadata": {},
   "outputs": [],
   "source": []
  }
 ],
 "metadata": {
  "kernelspec": {
   "display_name": "Python 3",
   "language": "python",
   "name": "python3"
  },
  "language_info": {
   "codemirror_mode": {
    "name": "ipython",
    "version": 3
   },
   "file_extension": ".py",
   "mimetype": "text/x-python",
   "name": "python",
   "nbconvert_exporter": "python",
   "pygments_lexer": "ipython3",
   "version": "3.7.4"
  }
 },
 "nbformat": 4,
 "nbformat_minor": 2
}
